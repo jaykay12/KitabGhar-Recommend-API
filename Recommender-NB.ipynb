{
 "cells": [
  {
   "cell_type": "code",
   "execution_count": 59,
   "metadata": {},
   "outputs": [],
   "source": [
    "import numpy as np\n",
    "import random\n",
    "import MySQLdb\n",
    "import scipy.spatial\n",
    "import pickle\n",
    "from math import sqrt\n",
    "import sys"
   ]
  },
  {
   "cell_type": "code",
   "execution_count": 60,
   "metadata": {},
   "outputs": [],
   "source": [
    "# Database Connection Setup\n",
    "\n",
    "db = MySQLdb.connect(host=\"localhost\",user=\"root\",passwd=\"jalaz\",db=\"kitabghar\")\n",
    "cur = db.cursor()"
   ]
  },
  {
   "cell_type": "code",
   "execution_count": 61,
   "metadata": {},
   "outputs": [],
   "source": [
    "# Hash the UserId into indices for better matrix calculations\n",
    "\n",
    "hashUsers = {}\n",
    "query = \"SELECT userid from users\"\n",
    "cur.execute(query)\n",
    "\n",
    "for i,row in enumerate(cur.fetchall()):\n",
    "    hashUsers[row[0]] = i\n",
    "users = len(hashUsers)"
   ]
  },
  {
   "cell_type": "code",
   "execution_count": 62,
   "metadata": {},
   "outputs": [],
   "source": [
    "# Hash the BookId into indices for better matrix calculations\n",
    "\n",
    "hashBooks = {}\n",
    "query = \"SELECT bookid from books\"\n",
    "cur.execute(query)\n",
    "\n",
    "for i,row in enumerate(cur.fetchall()):\n",
    "    hashBooks[row[0]] = i\n",
    "books = len(hashBooks)"
   ]
  },
  {
   "cell_type": "code",
   "execution_count": 63,
   "metadata": {},
   "outputs": [],
   "source": [
    "# Grab Dynamic Ratings dircetly from the Database\n",
    "\n",
    "ratingData = []\n",
    "query = \"SELECT userid,bookid,rating from reviews\"\n",
    "cur.execute(query)\n",
    "\n",
    "for row in cur.fetchall():\n",
    "    r = [hashUsers[row[0]], hashBooks[row[1]], int(row[2])]\n",
    "    ratingData.append(r)"
   ]
  },
  {
   "cell_type": "code",
   "execution_count": 64,
   "metadata": {},
   "outputs": [
    {
     "name": "stdout",
     "output_type": "stream",
     "text": [
      "5\n"
     ]
    }
   ],
   "source": [
    "# Grab the total number of Users who have rated\n",
    "\n",
    "query = \"SELECT count(*) from reviews GROUP BY userid\"\n",
    "cur.execute(query)\n",
    "print(len(cur.fetchall()))"
   ]
  },
  {
   "cell_type": "code",
   "execution_count": 65,
   "metadata": {},
   "outputs": [
    {
     "name": "stdout",
     "output_type": "stream",
     "text": [
      "128\n"
     ]
    }
   ],
   "source": [
    "# Grab the total number of Books Rated\n",
    "\n",
    "query = \"SELECT count(*) from reviews GROUP BY bookid\"\n",
    "cur.execute(query)\n",
    "print(len(cur.fetchall()))"
   ]
  },
  {
   "cell_type": "code",
   "execution_count": 66,
   "metadata": {},
   "outputs": [
    {
     "name": "stdout",
     "output_type": "stream",
     "text": [
      "[[ 4.  4.  0. ...,  4.  0.  0.]\n",
      " [ 3.  4.  0. ...,  1.  0.  0.]\n",
      " [ 0.  0.  0. ...,  0.  0.  0.]\n",
      " ..., \n",
      " [ 5.  2.  2. ...,  0.  0.  2.]\n",
      " [ 0.  0.  0. ...,  0.  0.  0.]\n",
      " [ 0.  0.  0. ...,  0.  0.  0.]]\n"
     ]
    }
   ],
   "source": [
    "# Create the Data Matrix\n",
    "\n",
    "dataMatrix = np.zeros((users,books))\n",
    "for entry in ratingData:\n",
    "    dataMatrix[entry[0]][entry[1]] = entry[2]\n",
    "    \n",
    "print(dataMatrix)"
   ]
  },
  {
   "cell_type": "code",
   "execution_count": 67,
   "metadata": {},
   "outputs": [
    {
     "name": "stdout",
     "output_type": "stream",
     "text": [
      "[[ 1.          0.6486493   0.61545745 ...,  0.45866432  0.44038551\n",
      "   0.43519414]\n",
      " [ 0.6486493   1.          0.2773501  ...,  0.87028527  0.24806947\n",
      "   0.58834841]\n",
      " [ 0.61545745  0.2773501   1.         ...,  0.          0.          0.70710678]\n",
      " ..., \n",
      " [ 0.45866432  0.87028527  0.         ...,  1.          0.26311741\n",
      "   0.41602515]\n",
      " [ 0.44038551  0.24806947  0.         ...,  0.26311741  1.          0.31622777]\n",
      " [ 0.43519414  0.58834841  0.70710678 ...,  0.41602515  0.31622777  1.        ]]\n"
     ]
    }
   ],
   "source": [
    "# Getting Similarity Matrix for our data\n",
    "\n",
    "item_similarity_cosine = np.zeros((books,books))\n",
    "for book1 in range(books):\n",
    "    for book2 in range(books):\n",
    "        if np.count_nonzero(dataMatrix[:, book1]) and np.count_nonzero(dataMatrix[:, book2]):\n",
    "            item_similarity_cosine[book1][book2] = 1-scipy.spatial.distance.cosine(dataMatrix[:, book1], dataMatrix[:, book2])\n",
    "        \n",
    "    \n",
    "print(item_similarity_cosine)"
   ]
  }
 ],
 "metadata": {
  "kernelspec": {
   "display_name": "Python 3",
   "language": "python",
   "name": "python3"
  },
  "language_info": {
   "codemirror_mode": {
    "name": "ipython",
    "version": 3
   },
   "file_extension": ".py",
   "mimetype": "text/x-python",
   "name": "python",
   "nbconvert_exporter": "python",
   "pygments_lexer": "ipython3",
   "version": "3.5.2"
  }
 },
 "nbformat": 4,
 "nbformat_minor": 2
}
