{
 "cells": [
  {
   "cell_type": "code",
   "execution_count": 15,
   "metadata": {},
   "outputs": [],
   "source": [
    "import numpy as np\n",
    "import random\n",
    "import MySQLdb\n",
    "import scipy.spatial\n",
    "import pickle\n",
    "from math import sqrt\n",
    "import sys"
   ]
  },
  {
   "cell_type": "code",
   "execution_count": 16,
   "metadata": {},
   "outputs": [],
   "source": [
    "# Database Connection Setup\n",
    "\n",
    "db = MySQLdb.connect(host=\"localhost\",user=\"root\",passwd=\"jalaz\",db=\"kitabghar\")\n",
    "cur = db.cursor()"
   ]
  },
  {
   "cell_type": "code",
   "execution_count": 90,
   "metadata": {},
   "outputs": [
    {
     "name": "stdout",
     "output_type": "stream",
     "text": [
      "Total Subscribers: 14\n"
     ]
    }
   ],
   "source": [
    "# Hash the UserId into indices for better matrix calculations\n",
    "\n",
    "hashUsers = {}\n",
    "reverseHashUsers = []\n",
    "query = \"SELECT userid from users\"\n",
    "cur.execute(query)\n",
    "\n",
    "for i,row in enumerate(cur.fetchall()):\n",
    "    hashUsers[row[0]] = i\n",
    "    reverseHashUsers.append(row[0])\n",
    "users = len(hashUsers)\n",
    "print(\"Total Subscribers: {}\".format(users))"
   ]
  },
  {
   "cell_type": "code",
   "execution_count": 91,
   "metadata": {},
   "outputs": [
    {
     "name": "stdout",
     "output_type": "stream",
     "text": [
      "Total Books: 130\n"
     ]
    }
   ],
   "source": [
    "# Hash the BookId into indices for better matrix calculations\n",
    "\n",
    "hashBooks = {}\n",
    "reverseHashBooks = []\n",
    "query = \"SELECT bookid from books\"\n",
    "cur.execute(query)\n",
    "\n",
    "for i,row in enumerate(cur.fetchall()):\n",
    "    hashBooks[row[0]] = i\n",
    "    reverseHashBooks.append(row[0])\n",
    "books = len(hashBooks)\n",
    "print(\"Total Books: {}\".format(books))"
   ]
  },
  {
   "cell_type": "code",
   "execution_count": 19,
   "metadata": {},
   "outputs": [],
   "source": [
    "###### 1 : Popularity Based Recommendation System #####"
   ]
  },
  {
   "cell_type": "code",
   "execution_count": 31,
   "metadata": {},
   "outputs": [
    {
     "name": "stdout",
     "output_type": "stream",
     "text": [
      "Most Popular Books(Sales):\n",
      "PROG1023-|-NOV1046-|-ACAD1004-|-ACAD1009-|-ACAD1030-|-ACAD1042-|-NOV1015-|-NOV1017\n"
     ]
    }
   ],
   "source": [
    "purchaseBooksCounter = []\n",
    "query = \"SELECT bookid, count(*) from shelfs GROUP BY bookid\"\n",
    "cur.execute(query)\n",
    "\n",
    "for row in cur.fetchall():\n",
    "    purchaseBooksCounter.append((row[1],row[0]))\n",
    "\n",
    "def firstElement(element):\n",
    "    return element[0]\n",
    "purchaseBooksCounter.sort(reverse = True, key = firstElement)\n",
    "\n",
    "print(\"Most Popular Books(Sales):\")\n",
    "for i,book in enumerate(purchaseBooksCounter):\n",
    "    if i>=7:\n",
    "        print(book[1])\n",
    "        break\n",
    "    print(book[1],end=\"-|-\")"
   ]
  },
  {
   "cell_type": "code",
   "execution_count": 32,
   "metadata": {},
   "outputs": [
    {
     "name": "stdout",
     "output_type": "stream",
     "text": [
      "Most Popular Books(Ratings):\n",
      "NOV1013-|-NOV1021-|-PROG1031-|-ACAD1029-|-NOV1037-|-NOV1047-|-ACAD1002-|-ACAD1035\n"
     ]
    }
   ],
   "source": [
    "ratingCalculatorBooks = []\n",
    "query = \"SELECT bookid, sum(rating), count(*) from reviews GROUP BY bookid\"\n",
    "cur.execute(query)\n",
    "\n",
    "for row in cur.fetchall():\n",
    "    normalizedRating = round((int(row[1])/int(row[2])),2)\n",
    "    ratingCalculatorBooks.append((normalizedRating, row[0], row[2]))\n",
    "    \n",
    "ratingCalculatorBooks.sort(reverse = True, key = firstElement)\n",
    "\n",
    "print(\"Most Popular Books(Ratings):\")\n",
    "for i,book in enumerate(ratingCalculatorBooks):\n",
    "    if i>=7:\n",
    "        print(book[1])\n",
    "        break;\n",
    "    print(book[1], end=\"-|-\")"
   ]
  },
  {
   "cell_type": "code",
   "execution_count": 33,
   "metadata": {},
   "outputs": [],
   "source": [
    "#####  2 - Item-Item Based Collaborative Filtering Recommender System   #####"
   ]
  },
  {
   "cell_type": "code",
   "execution_count": 113,
   "metadata": {},
   "outputs": [
    {
     "name": "stdout",
     "output_type": "stream",
     "text": [
      "Done: Dynamic Rating Grabbed\n"
     ]
    }
   ],
   "source": [
    "# Grab Dynamic Ratings directly from the Database\n",
    "\n",
    "ratingData = []\n",
    "query = \"SELECT userid,bookid,rating from reviews\"\n",
    "cur.execute(query)\n",
    "\n",
    "for row in cur.fetchall():\n",
    "    ratingData.append((hashUsers[row[0]], row[0], hashBooks[row[1]], row[1], row[2]))\n",
    "    \n",
    "print(\"Done: Dynamic Rating Grabbed\")"
   ]
  },
  {
   "cell_type": "code",
   "execution_count": 36,
   "metadata": {},
   "outputs": [
    {
     "name": "stdout",
     "output_type": "stream",
     "text": [
      "5\n"
     ]
    }
   ],
   "source": [
    "# Grab the total number of Users who have rated\n",
    "\n",
    "query = \"SELECT count(*) from reviews GROUP BY userid\"\n",
    "cur.execute(query)\n",
    "print(len(cur.fetchall()))"
   ]
  },
  {
   "cell_type": "code",
   "execution_count": 37,
   "metadata": {},
   "outputs": [
    {
     "name": "stdout",
     "output_type": "stream",
     "text": [
      "128\n"
     ]
    }
   ],
   "source": [
    "# Grab the total number of Books Rated\n",
    "\n",
    "query = \"SELECT count(*) from reviews GROUP BY bookid\"\n",
    "cur.execute(query)\n",
    "print(len(cur.fetchall()))"
   ]
  },
  {
   "cell_type": "code",
   "execution_count": 111,
   "metadata": {},
   "outputs": [
    {
     "name": "stdout",
     "output_type": "stream",
     "text": [
      "Constructed: Data Matrix\n",
      "[[ 4.  4.  0. ...,  4.  0.  0.]\n",
      " [ 3.  4.  0. ...,  1.  0.  0.]\n",
      " [ 0.  0.  0. ...,  0.  0.  0.]\n",
      " ..., \n",
      " [ 5.  2.  2. ...,  0.  0.  2.]\n",
      " [ 0.  0.  0. ...,  0.  0.  0.]\n",
      " [ 0.  0.  0. ...,  0.  0.  0.]]\n"
     ]
    }
   ],
   "source": [
    "# Create the Data Matrix\n",
    "\n",
    "dataMatrix = np.zeros((users,books))\n",
    "for entry in ratingData:\n",
    "    dataMatrix[entry[0]][entry[2]] = entry[4]\n",
    "    \n",
    "print(\"Constructed: Data Matrix\")\n",
    "print(dataMatrix)"
   ]
  },
  {
   "cell_type": "code",
   "execution_count": 105,
   "metadata": {},
   "outputs": [
    {
     "name": "stdout",
     "output_type": "stream",
     "text": [
      "Done: Constructed Similarity Matrix\n"
     ]
    }
   ],
   "source": [
    "# Getting Similarity Matrix for the Books\n",
    "\n",
    "item_similarity_cosine_books = np.zeros((books,books))\n",
    "for book1 in range(books):\n",
    "    for book2 in range(books):\n",
    "        if np.count_nonzero(dataMatrix[:, book1]) and np.count_nonzero(dataMatrix[:, book2]):\n",
    "            similarity_value = round((1 - scipy.spatial.distance.cosine(dataMatrix[:, book1], dataMatrix[:, book2])),3)\n",
    "            item_similarity_cosine_books[book1][book2] = similarity_value\n",
    "            \n",
    "print(\"Done: Constructed Similarity Matrix\")"
   ]
  },
  {
   "cell_type": "code",
   "execution_count": 107,
   "metadata": {},
   "outputs": [
    {
     "name": "stdout",
     "output_type": "stream",
     "text": [
      "Read & Rated Books: ['NOV1015', 'PROG1009', 'PROG1023', 'NOV1046']\n"
     ]
    }
   ],
   "source": [
    "# Gather the List of Books which User has already Read & Rated\n",
    "\n",
    "userid = 'jalaz.kumar'\n",
    "alreadyBooksRead = []\n",
    "query = \"SELECT bookid from shelfs WHERE userid = '{uid}'\".format(uid = userid)\n",
    "cur.execute(query)\n",
    "\n",
    "alreadyRecommended = {}\n",
    "\n",
    "for row in cur.fetchall():\n",
    "    alreadyBooksRead.append(row[0])\n",
    "    alreadyRecommended[row[0]] = True\n",
    "\n",
    "print(\"Read & Rated Books:\", alreadyBooksRead)"
   ]
  },
  {
   "cell_type": "code",
   "execution_count": 109,
   "metadata": {},
   "outputs": [
    {
     "name": "stdout",
     "output_type": "stream",
     "text": [
      "Recommrndations Generated: ['ACAD1029', 'NOV1037', 'NOV1048', 'NOV1020', 'ACAD1015', 'PROG1021', 'PROG1012', 'ACAD1025', 'ACAD1036', 'NOV1011', 'NOV1036', 'ACAD1002', 'NOV1000', 'NOV1005', 'ACAD1037', 'PROG1028', 'PROG1002', 'ACAD1014', 'ACAD1044', 'ACAD1003', 'ACAD1040', 'PROG1010', 'PROG1000']\n"
     ]
    }
   ],
   "source": [
    "# Generating the recommendations for the User\n",
    "\n",
    "recommendations = []\n",
    "for book in alreadyBooksRead:\n",
    "    for i,simValue in enumerate(item_similarity_cosine_books[hashBooks[book]]):\n",
    "        recommendations.append((reverseHashBooks[i],float(simValue)))\n",
    "\n",
    "def secondElement(element):\n",
    "    return element[1]\n",
    "\n",
    "recommendations.sort(reverse = True, key=secondElement)\n",
    "\n",
    "finalRecommended = []\n",
    "booksRecommenderCounter = 0\n",
    "for entry in recommendations:\n",
    "    if booksRecommenderCounter>=23:\n",
    "        break;\n",
    "        \n",
    "    if entry[1] != 1 and entry[0] not in alreadyRecommended:\n",
    "        finalRecommended.append(entry[0])\n",
    "        alreadyRecommended[entry[0]] = True\n",
    "        booksRecommenderCounter += 1\n",
    "        \n",
    "print(\"Recommrndations Generated:\", finalRecommended)"
   ]
  }
 ],
 "metadata": {
  "kernelspec": {
   "display_name": "Python 3",
   "language": "python",
   "name": "python3"
  },
  "language_info": {
   "codemirror_mode": {
    "name": "ipython",
    "version": 3
   },
   "file_extension": ".py",
   "mimetype": "text/x-python",
   "name": "python",
   "nbconvert_exporter": "python",
   "pygments_lexer": "ipython3",
   "version": "3.5.2"
  }
 },
 "nbformat": 4,
 "nbformat_minor": 2
}
